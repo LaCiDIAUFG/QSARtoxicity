{
 "cells": [
  {
   "cell_type": "code",
   "execution_count": 1,
   "metadata": {},
   "outputs": [],
   "source": [
    "import pandas as pd"
   ]
  },
  {
   "cell_type": "code",
   "execution_count": 2,
   "metadata": {},
   "outputs": [],
   "source": [
    "path = '/dados/banco_de_dados/Machine_Learning_UCI/qsar_toxicitydrugs/qsar_oral_toxicity.csv'\n",
    "df = pd.read_csv(path, sep=';', header=None)"
   ]
  },
  {
   "cell_type": "code",
   "execution_count": 3,
   "metadata": {},
   "outputs": [
    {
     "data": {
      "text/html": [
       "<div>\n",
       "<style scoped>\n",
       "    .dataframe tbody tr th:only-of-type {\n",
       "        vertical-align: middle;\n",
       "    }\n",
       "\n",
       "    .dataframe tbody tr th {\n",
       "        vertical-align: top;\n",
       "    }\n",
       "\n",
       "    .dataframe thead th {\n",
       "        text-align: right;\n",
       "    }\n",
       "</style>\n",
       "<table border=\"1\" class=\"dataframe\">\n",
       "  <thead>\n",
       "    <tr style=\"text-align: right;\">\n",
       "      <th></th>\n",
       "      <th>0</th>\n",
       "      <th>1</th>\n",
       "      <th>2</th>\n",
       "      <th>3</th>\n",
       "      <th>4</th>\n",
       "      <th>5</th>\n",
       "      <th>6</th>\n",
       "      <th>7</th>\n",
       "      <th>8</th>\n",
       "      <th>9</th>\n",
       "      <th>...</th>\n",
       "      <th>1015</th>\n",
       "      <th>1016</th>\n",
       "      <th>1017</th>\n",
       "      <th>1018</th>\n",
       "      <th>1019</th>\n",
       "      <th>1020</th>\n",
       "      <th>1021</th>\n",
       "      <th>1022</th>\n",
       "      <th>1023</th>\n",
       "      <th>1024</th>\n",
       "    </tr>\n",
       "  </thead>\n",
       "  <tbody>\n",
       "    <tr>\n",
       "      <th>0</th>\n",
       "      <td>0</td>\n",
       "      <td>0</td>\n",
       "      <td>0</td>\n",
       "      <td>0</td>\n",
       "      <td>0</td>\n",
       "      <td>0</td>\n",
       "      <td>0</td>\n",
       "      <td>0</td>\n",
       "      <td>0</td>\n",
       "      <td>0</td>\n",
       "      <td>...</td>\n",
       "      <td>0</td>\n",
       "      <td>0</td>\n",
       "      <td>0</td>\n",
       "      <td>0</td>\n",
       "      <td>0</td>\n",
       "      <td>0</td>\n",
       "      <td>0</td>\n",
       "      <td>0</td>\n",
       "      <td>0</td>\n",
       "      <td>negative</td>\n",
       "    </tr>\n",
       "    <tr>\n",
       "      <th>1</th>\n",
       "      <td>0</td>\n",
       "      <td>0</td>\n",
       "      <td>1</td>\n",
       "      <td>0</td>\n",
       "      <td>0</td>\n",
       "      <td>0</td>\n",
       "      <td>0</td>\n",
       "      <td>0</td>\n",
       "      <td>0</td>\n",
       "      <td>0</td>\n",
       "      <td>...</td>\n",
       "      <td>0</td>\n",
       "      <td>0</td>\n",
       "      <td>0</td>\n",
       "      <td>0</td>\n",
       "      <td>0</td>\n",
       "      <td>0</td>\n",
       "      <td>0</td>\n",
       "      <td>0</td>\n",
       "      <td>0</td>\n",
       "      <td>negative</td>\n",
       "    </tr>\n",
       "    <tr>\n",
       "      <th>2</th>\n",
       "      <td>0</td>\n",
       "      <td>0</td>\n",
       "      <td>0</td>\n",
       "      <td>0</td>\n",
       "      <td>0</td>\n",
       "      <td>0</td>\n",
       "      <td>0</td>\n",
       "      <td>0</td>\n",
       "      <td>0</td>\n",
       "      <td>0</td>\n",
       "      <td>...</td>\n",
       "      <td>0</td>\n",
       "      <td>0</td>\n",
       "      <td>1</td>\n",
       "      <td>0</td>\n",
       "      <td>0</td>\n",
       "      <td>0</td>\n",
       "      <td>0</td>\n",
       "      <td>0</td>\n",
       "      <td>0</td>\n",
       "      <td>negative</td>\n",
       "    </tr>\n",
       "    <tr>\n",
       "      <th>3</th>\n",
       "      <td>0</td>\n",
       "      <td>0</td>\n",
       "      <td>0</td>\n",
       "      <td>0</td>\n",
       "      <td>0</td>\n",
       "      <td>0</td>\n",
       "      <td>0</td>\n",
       "      <td>1</td>\n",
       "      <td>0</td>\n",
       "      <td>0</td>\n",
       "      <td>...</td>\n",
       "      <td>0</td>\n",
       "      <td>0</td>\n",
       "      <td>0</td>\n",
       "      <td>0</td>\n",
       "      <td>0</td>\n",
       "      <td>0</td>\n",
       "      <td>0</td>\n",
       "      <td>0</td>\n",
       "      <td>0</td>\n",
       "      <td>negative</td>\n",
       "    </tr>\n",
       "    <tr>\n",
       "      <th>4</th>\n",
       "      <td>0</td>\n",
       "      <td>0</td>\n",
       "      <td>0</td>\n",
       "      <td>0</td>\n",
       "      <td>0</td>\n",
       "      <td>0</td>\n",
       "      <td>0</td>\n",
       "      <td>0</td>\n",
       "      <td>0</td>\n",
       "      <td>0</td>\n",
       "      <td>...</td>\n",
       "      <td>0</td>\n",
       "      <td>0</td>\n",
       "      <td>0</td>\n",
       "      <td>0</td>\n",
       "      <td>0</td>\n",
       "      <td>0</td>\n",
       "      <td>0</td>\n",
       "      <td>0</td>\n",
       "      <td>0</td>\n",
       "      <td>negative</td>\n",
       "    </tr>\n",
       "    <tr>\n",
       "      <th>...</th>\n",
       "      <td>...</td>\n",
       "      <td>...</td>\n",
       "      <td>...</td>\n",
       "      <td>...</td>\n",
       "      <td>...</td>\n",
       "      <td>...</td>\n",
       "      <td>...</td>\n",
       "      <td>...</td>\n",
       "      <td>...</td>\n",
       "      <td>...</td>\n",
       "      <td>...</td>\n",
       "      <td>...</td>\n",
       "      <td>...</td>\n",
       "      <td>...</td>\n",
       "      <td>...</td>\n",
       "      <td>...</td>\n",
       "      <td>...</td>\n",
       "      <td>...</td>\n",
       "      <td>...</td>\n",
       "      <td>...</td>\n",
       "      <td>...</td>\n",
       "    </tr>\n",
       "    <tr>\n",
       "      <th>8987</th>\n",
       "      <td>0</td>\n",
       "      <td>0</td>\n",
       "      <td>0</td>\n",
       "      <td>0</td>\n",
       "      <td>0</td>\n",
       "      <td>0</td>\n",
       "      <td>0</td>\n",
       "      <td>1</td>\n",
       "      <td>0</td>\n",
       "      <td>0</td>\n",
       "      <td>...</td>\n",
       "      <td>0</td>\n",
       "      <td>0</td>\n",
       "      <td>0</td>\n",
       "      <td>1</td>\n",
       "      <td>0</td>\n",
       "      <td>0</td>\n",
       "      <td>0</td>\n",
       "      <td>0</td>\n",
       "      <td>0</td>\n",
       "      <td>negative</td>\n",
       "    </tr>\n",
       "    <tr>\n",
       "      <th>8988</th>\n",
       "      <td>0</td>\n",
       "      <td>1</td>\n",
       "      <td>0</td>\n",
       "      <td>0</td>\n",
       "      <td>0</td>\n",
       "      <td>1</td>\n",
       "      <td>0</td>\n",
       "      <td>1</td>\n",
       "      <td>0</td>\n",
       "      <td>0</td>\n",
       "      <td>...</td>\n",
       "      <td>0</td>\n",
       "      <td>0</td>\n",
       "      <td>0</td>\n",
       "      <td>1</td>\n",
       "      <td>0</td>\n",
       "      <td>0</td>\n",
       "      <td>0</td>\n",
       "      <td>0</td>\n",
       "      <td>0</td>\n",
       "      <td>negative</td>\n",
       "    </tr>\n",
       "    <tr>\n",
       "      <th>8989</th>\n",
       "      <td>0</td>\n",
       "      <td>0</td>\n",
       "      <td>0</td>\n",
       "      <td>0</td>\n",
       "      <td>0</td>\n",
       "      <td>0</td>\n",
       "      <td>0</td>\n",
       "      <td>1</td>\n",
       "      <td>0</td>\n",
       "      <td>0</td>\n",
       "      <td>...</td>\n",
       "      <td>0</td>\n",
       "      <td>0</td>\n",
       "      <td>0</td>\n",
       "      <td>0</td>\n",
       "      <td>0</td>\n",
       "      <td>0</td>\n",
       "      <td>0</td>\n",
       "      <td>1</td>\n",
       "      <td>0</td>\n",
       "      <td>negative</td>\n",
       "    </tr>\n",
       "    <tr>\n",
       "      <th>8990</th>\n",
       "      <td>0</td>\n",
       "      <td>0</td>\n",
       "      <td>0</td>\n",
       "      <td>0</td>\n",
       "      <td>0</td>\n",
       "      <td>0</td>\n",
       "      <td>0</td>\n",
       "      <td>0</td>\n",
       "      <td>0</td>\n",
       "      <td>0</td>\n",
       "      <td>...</td>\n",
       "      <td>0</td>\n",
       "      <td>0</td>\n",
       "      <td>0</td>\n",
       "      <td>0</td>\n",
       "      <td>0</td>\n",
       "      <td>0</td>\n",
       "      <td>0</td>\n",
       "      <td>0</td>\n",
       "      <td>0</td>\n",
       "      <td>negative</td>\n",
       "    </tr>\n",
       "    <tr>\n",
       "      <th>8991</th>\n",
       "      <td>0</td>\n",
       "      <td>0</td>\n",
       "      <td>1</td>\n",
       "      <td>0</td>\n",
       "      <td>0</td>\n",
       "      <td>0</td>\n",
       "      <td>0</td>\n",
       "      <td>0</td>\n",
       "      <td>0</td>\n",
       "      <td>0</td>\n",
       "      <td>...</td>\n",
       "      <td>1</td>\n",
       "      <td>0</td>\n",
       "      <td>0</td>\n",
       "      <td>0</td>\n",
       "      <td>0</td>\n",
       "      <td>0</td>\n",
       "      <td>0</td>\n",
       "      <td>0</td>\n",
       "      <td>0</td>\n",
       "      <td>negative</td>\n",
       "    </tr>\n",
       "  </tbody>\n",
       "</table>\n",
       "<p>8992 rows × 1025 columns</p>\n",
       "</div>"
      ],
      "text/plain": [
       "      0     1     2     3     4     5     6     7     8     9     ...  1015  \\\n",
       "0        0     0     0     0     0     0     0     0     0     0  ...     0   \n",
       "1        0     0     1     0     0     0     0     0     0     0  ...     0   \n",
       "2        0     0     0     0     0     0     0     0     0     0  ...     0   \n",
       "3        0     0     0     0     0     0     0     1     0     0  ...     0   \n",
       "4        0     0     0     0     0     0     0     0     0     0  ...     0   \n",
       "...    ...   ...   ...   ...   ...   ...   ...   ...   ...   ...  ...   ...   \n",
       "8987     0     0     0     0     0     0     0     1     0     0  ...     0   \n",
       "8988     0     1     0     0     0     1     0     1     0     0  ...     0   \n",
       "8989     0     0     0     0     0     0     0     1     0     0  ...     0   \n",
       "8990     0     0     0     0     0     0     0     0     0     0  ...     0   \n",
       "8991     0     0     1     0     0     0     0     0     0     0  ...     1   \n",
       "\n",
       "      1016  1017  1018  1019  1020  1021  1022  1023      1024  \n",
       "0        0     0     0     0     0     0     0     0  negative  \n",
       "1        0     0     0     0     0     0     0     0  negative  \n",
       "2        0     1     0     0     0     0     0     0  negative  \n",
       "3        0     0     0     0     0     0     0     0  negative  \n",
       "4        0     0     0     0     0     0     0     0  negative  \n",
       "...    ...   ...   ...   ...   ...   ...   ...   ...       ...  \n",
       "8987     0     0     1     0     0     0     0     0  negative  \n",
       "8988     0     0     1     0     0     0     0     0  negative  \n",
       "8989     0     0     0     0     0     0     1     0  negative  \n",
       "8990     0     0     0     0     0     0     0     0  negative  \n",
       "8991     0     0     0     0     0     0     0     0  negative  \n",
       "\n",
       "[8992 rows x 1025 columns]"
      ]
     },
     "execution_count": 3,
     "metadata": {},
     "output_type": "execute_result"
    }
   ],
   "source": [
    "df"
   ]
  },
  {
   "cell_type": "code",
   "execution_count": 4,
   "metadata": {},
   "outputs": [],
   "source": [
    "xi = df.iloc[:, 0:1024].values\n",
    "y = df.iloc[:, 1024]"
   ]
  },
  {
   "cell_type": "code",
   "execution_count": 5,
   "metadata": {},
   "outputs": [
    {
     "data": {
      "text/plain": [
       "741"
      ]
     },
     "execution_count": 5,
     "metadata": {},
     "output_type": "execute_result"
    }
   ],
   "source": [
    "len(df.loc[df[1024] == 'positive'])"
   ]
  },
  {
   "cell_type": "code",
   "execution_count": 6,
   "metadata": {},
   "outputs": [
    {
     "data": {
      "text/plain": [
       "array([[-0.52018736, -0.1924057 , -0.27166129, ..., -0.14927443,\n",
       "        -0.15120943, -0.13714251],\n",
       "       [-0.52018736, -0.1924057 ,  3.68105444, ..., -0.14927443,\n",
       "        -0.15120943, -0.13714251],\n",
       "       [-0.52018736, -0.1924057 , -0.27166129, ..., -0.14927443,\n",
       "        -0.15120943, -0.13714251],\n",
       "       ...,\n",
       "       [-0.52018736, -0.1924057 , -0.27166129, ..., -0.14927443,\n",
       "         6.61334397, -0.13714251],\n",
       "       [-0.52018736, -0.1924057 , -0.27166129, ..., -0.14927443,\n",
       "        -0.15120943, -0.13714251],\n",
       "       [-0.52018736, -0.1924057 ,  3.68105444, ..., -0.14927443,\n",
       "        -0.15120943, -0.13714251]])"
      ]
     },
     "execution_count": 6,
     "metadata": {},
     "output_type": "execute_result"
    }
   ],
   "source": [
    "#Aplicando reescalonamento\n",
    "from sklearn.preprocessing import StandardScaler\n",
    "ss = StandardScaler()\n",
    "xi = ss.fit_transform(xi)\n",
    "xi"
   ]
  },
  {
   "cell_type": "code",
   "execution_count": 7,
   "metadata": {},
   "outputs": [],
   "source": [
    "from sklearn.model_selection import train_test_split\n",
    "xi_train, xi_test, y_train, y_test = train_test_split(xi, y, test_size=0.15, random_state=0)"
   ]
  },
  {
   "cell_type": "code",
   "execution_count": 8,
   "metadata": {},
   "outputs": [
    {
     "name": "stdout",
     "output_type": "stream",
     "text": [
      "Treino = 7643, Teste = 1349\n"
     ]
    }
   ],
   "source": [
    "print('Treino = {}, Teste = {}'.format(len(xi_train), len(xi_test)))"
   ]
  },
  {
   "cell_type": "markdown",
   "metadata": {},
   "source": [
    "## Aplicando bayes\n",
    "<li>A acuracia não mudou mesmo aplicando StandardScaler</li>"
   ]
  },
  {
   "cell_type": "code",
   "execution_count": 177,
   "metadata": {},
   "outputs": [
    {
     "data": {
      "text/plain": [
       "GaussianNB(priors=None, var_smoothing=1e-09)"
      ]
     },
     "execution_count": 177,
     "metadata": {},
     "output_type": "execute_result"
    }
   ],
   "source": [
    "from sklearn.naive_bayes import GaussianNB\n",
    "nb = GaussianNB()\n",
    "nb.fit(xi_train, y_train)"
   ]
  },
  {
   "cell_type": "code",
   "execution_count": 178,
   "metadata": {},
   "outputs": [
    {
     "data": {
      "text/plain": [
       "array(['negative', 'negative', 'negative', ..., 'negative', 'negative',\n",
       "       'negative'], dtype='<U8')"
      ]
     },
     "execution_count": 178,
     "metadata": {},
     "output_type": "execute_result"
    }
   ],
   "source": [
    "y_pred = nb.predict(xi_test)\n",
    "y_pred"
   ]
  },
  {
   "cell_type": "code",
   "execution_count": 179,
   "metadata": {},
   "outputs": [
    {
     "data": {
      "text/plain": [
       "0.7390659747961453"
      ]
     },
     "execution_count": 179,
     "metadata": {},
     "output_type": "execute_result"
    }
   ],
   "source": [
    "#Acurácia\n",
    "from sklearn.metrics import accuracy_score\n",
    "acc = accuracy_score(y_test, y_pred)\n",
    "acc"
   ]
  },
  {
   "cell_type": "code",
   "execution_count": 180,
   "metadata": {},
   "outputs": [
    {
     "data": {
      "image/png": "[encoded data removed]",
      "text/plain": [
       "<Figure size 432x432 with 1 Axes>"
      ]
     },
     "metadata": {
      "needs_background": "light"
     },
     "output_type": "display_data"
    }
   ],
   "source": [
    "from mlxtend.plotting import plot_confusion_matrix\n",
    "from sklearn.metrics import confusion_matrix\n",
    "matriz = confusion_matrix(y_test, y_pred)\n",
    "fig, ax = plot_confusion_matrix(conf_mat=matriz, figsize=(6,6)) #matriz de confusão grafica"
   ]
  },
  {
   "cell_type": "code",
   "execution_count": 181,
   "metadata": {},
   "outputs": [
    {
     "name": "stdout",
     "output_type": "stream",
     "text": [
      "Acurácia: 0.7391\n",
      "Sensitividade: 0.7433\n",
      "Especificidade: 0.6909\n"
     ]
    }
   ],
   "source": [
    "#Acurácia, Sensitividade, Especificidade\n",
    "total = sum(sum(matriz)) #só 1 sum soma apenas cruzado, 2 sum soma tudo\n",
    "acc = acc\n",
    "sensitivity = matriz[0, 0] / (matriz[0, 0] + matriz[0, 1]) #acerto / acerto+erro 'label 1'\n",
    "specificity = matriz[1, 1] / (matriz[1,1] + matriz[1, 0]) #acerto / acerto+erro 'label 2'\n",
    "\n",
    "print(\"Acurácia: {:.4f}\".format(acc))\n",
    "print(\"Sensitividade: {:.4f}\".format(sensitivity))\n",
    "print(\"Especificidade: {:.4f}\".format(specificity))"
   ]
  },
  {
   "cell_type": "markdown",
   "metadata": {},
   "source": [
    "## Aplicando Arvore de decisão\n",
    "<li>A acuracia não mudou mesmo aplicando StandardScaler</li>"
   ]
  },
  {
   "cell_type": "code",
   "execution_count": 83,
   "metadata": {},
   "outputs": [
    {
     "data": {
      "text/plain": [
       "DecisionTreeClassifier(ccp_alpha=0.0, class_weight=None, criterion='entropy',\n",
       "                       max_depth=None, max_features=None, max_leaf_nodes=None,\n",
       "                       min_impurity_decrease=0.0, min_impurity_split=None,\n",
       "                       min_samples_leaf=1, min_samples_split=2,\n",
       "                       min_weight_fraction_leaf=0.0, presort='deprecated',\n",
       "                       random_state=0, splitter='best')"
      ]
     },
     "execution_count": 83,
     "metadata": {},
     "output_type": "execute_result"
    }
   ],
   "source": [
    "from sklearn.tree import DecisionTreeClassifier\n",
    "dtc = DecisionTreeClassifier(criterion='entropy', random_state=0)\n",
    "dtc.fit(xi_train, y_train)"
   ]
  },
  {
   "cell_type": "code",
   "execution_count": 84,
   "metadata": {},
   "outputs": [
    {
     "data": {
      "text/plain": [
       "array(['negative', 'negative', 'negative', ..., 'negative', 'negative',\n",
       "       'negative'], dtype=object)"
      ]
     },
     "execution_count": 84,
     "metadata": {},
     "output_type": "execute_result"
    }
   ],
   "source": [
    "y_pred = dtc.predict(xi_test)\n",
    "y_pred"
   ]
  },
  {
   "cell_type": "code",
   "execution_count": 85,
   "metadata": {},
   "outputs": [
    {
     "data": {
      "text/plain": [
       "0.9229058561897702"
      ]
     },
     "execution_count": 85,
     "metadata": {},
     "output_type": "execute_result"
    }
   ],
   "source": [
    "#Acurácia\n",
    "from sklearn.metrics import accuracy_score\n",
    "acc = accuracy_score(y_test, y_pred)"
   ]
  },
  {
   "cell_type": "code",
   "execution_count": 86,
   "metadata": {},
   "outputs": [
    {
     "data": {
      "image/png": "[encoded data removed]",
      "text/plain": [
       "<Figure size 432x432 with 1 Axes>"
      ]
     },
     "metadata": {
      "needs_background": "light"
     },
     "output_type": "display_data"
    }
   ],
   "source": [
    "#matriz confusão\n",
    "from sklearn.metrics import confusion_matrix\n",
    "from mlxtend.plotting import plot_confusion_matrix\n",
    "matriz = confusion_matrix(y_test, y_pred)\n",
    "fig, ax = plot_confusion_matrix(conf_mat=matriz, figsize=(6,6))"
   ]
  },
  {
   "cell_type": "code",
   "execution_count": 97,
   "metadata": {},
   "outputs": [
    {
     "name": "stdout",
     "output_type": "stream",
     "text": [
      "Acurácia: 0.9229\n",
      "Sensitividade: 0.9613\n",
      "Especificidade: 0.4909\n"
     ]
    }
   ],
   "source": [
    "#Acurácia, Sensitividade, Especificidade\n",
    "total = sum(sum(matriz)) #só 1 sum soma apenas cruzado, 2 sum soma tudo\n",
    "acc = acc\n",
    "sensitivity = matriz[0, 0] / (matriz[0, 0] + matriz[0, 1]) #acerto / acerto+erro 'label 1'\n",
    "specificity = matriz[1, 1] / (matriz[1,1] + matriz[1, 0]) #acerto / acerto+erro 'label 2'\n",
    "\n",
    "print(\"Acurácia: {:.4f}\".format(acc))\n",
    "print(\"Sensitividade: {:.4f}\".format(sensitivity))\n",
    "print(\"Especificidade: {:.4f}\".format(specificity))"
   ]
  },
  {
   "cell_type": "markdown",
   "metadata": {},
   "source": [
    "## Aplicação Random forest\n",
    "<li>Sem StandardScaler:<br>\n",
    "Criterion = 'entropy' <br>\n",
    "n_estimators=100 e 1000<br>\n",
    "Acurácia: 0.9444<br>\n",
    "Sensitividade: 0.9927<br>\n",
    "Especificidade: 0.4000<br>\n",
    "</li><br>\n",
    "\n",
    "<li>Sem StandardScaler:<br>\n",
    "Criterion = 'gini' <br>\n",
    "n_estimators=100 e 1000<br>\n",
    "Acurácia: 0.9422 e 0.9444<br>\n",
    "Sensitividade: 0.9919 e 0.9927<br>\n",
    "Especificidade: 0.3818 e 0.4000<br>\n",
    "</li><br>\n",
    "\n",
    "<li>Com StandardScaler:<br>\n",
    "Criterion = 'entropy' <br>\n",
    "n_estimators=100 e 1000<br>\n",
    "Acurácia: 0.9444<br>\n",
    "Sensitividade: 0.9927<br>\n",
    "Especificidade: 0.4000<br>\n",
    "</li><br>\n",
    "\n",
    "<li>Com StandardScaler:<br>\n",
    "Criterion = 'gini' <br>\n",
    "n_estimators=100 e 1000<br>\n",
    "Acurácia: 0.9422 e 0.9422<br>\n",
    "Sensitividade: 0.9919 e 0.9919<br>\n",
    "Especificidade: 0.3818 e 0.3818<br>\n",
    "</li>"
   ]
  },
  {
   "cell_type": "code",
   "execution_count": 167,
   "metadata": {},
   "outputs": [
    {
     "data": {
      "text/plain": [
       "RandomForestClassifier(bootstrap=True, ccp_alpha=0.0, class_weight=None,\n",
       "                       criterion='gini', max_depth=None, max_features='auto',\n",
       "                       max_leaf_nodes=None, max_samples=None,\n",
       "                       min_impurity_decrease=0.0, min_impurity_split=None,\n",
       "                       min_samples_leaf=1, min_samples_split=2,\n",
       "                       min_weight_fraction_leaf=0.0, n_estimators=1000,\n",
       "                       n_jobs=None, oob_score=False, random_state=0, verbose=0,\n",
       "                       warm_start=False)"
      ]
     },
     "execution_count": 167,
     "metadata": {},
     "output_type": "execute_result"
    }
   ],
   "source": [
    "from sklearn.ensemble import RandomForestClassifier\n",
    "rfc = RandomForestClassifier(n_estimators=1000,\n",
    "                             criterion='gini',\n",
    "                             random_state=0)\n",
    "rfc.fit(xi_train, y_train)"
   ]
  },
  {
   "cell_type": "code",
   "execution_count": 168,
   "metadata": {},
   "outputs": [
    {
     "data": {
      "text/plain": [
       "array(['negative', 'negative', 'negative', ..., 'negative', 'negative',\n",
       "       'negative'], dtype=object)"
      ]
     },
     "execution_count": 168,
     "metadata": {},
     "output_type": "execute_result"
    }
   ],
   "source": [
    "y_pred = rfc.predict(xi_test)\n",
    "y_pred"
   ]
  },
  {
   "cell_type": "code",
   "execution_count": 169,
   "metadata": {},
   "outputs": [
    {
     "data": {
      "text/plain": [
       "0.9444032616753151"
      ]
     },
     "execution_count": 169,
     "metadata": {},
     "output_type": "execute_result"
    }
   ],
   "source": [
    "#Acurácia\n",
    "from sklearn.metrics import accuracy_score\n",
    "acc = accuracy_score(y_test, y_pred)\n",
    "acc"
   ]
  },
  {
   "cell_type": "code",
   "execution_count": 170,
   "metadata": {},
   "outputs": [
    {
     "data": {
      "image/png": "[encoded data removed]",
      "text/plain": [
       "<Figure size 432x432 with 1 Axes>"
      ]
     },
     "metadata": {
      "needs_background": "light"
     },
     "output_type": "display_data"
    }
   ],
   "source": [
    "#matriz confusão\n",
    "from sklearn.metrics import confusion_matrix\n",
    "from mlxtend.plotting import plot_confusion_matrix\n",
    "matriz = confusion_matrix(y_test, y_pred)\n",
    "fig, ax = plot_confusion_matrix(conf_mat=matriz, figsize=(6,6))"
   ]
  },
  {
   "cell_type": "code",
   "execution_count": 166,
   "metadata": {},
   "outputs": [
    {
     "name": "stdout",
     "output_type": "stream",
     "text": [
      "Acurácia: 0.9422\n",
      "Sensitividade: 0.9919\n",
      "Especificidade: 0.3818\n"
     ]
    }
   ],
   "source": [
    "#Acurácia, Sensitividade, Especificidade\n",
    "total = sum(sum(matriz)) #só 1 sum soma apenas cruzado, 2 sum soma tudo\n",
    "acc = acc\n",
    "sensitivity = matriz[0, 0] / (matriz[0, 0] + matriz[0, 1]) #acerto / acerto+erro 'label 1'\n",
    "specificity = matriz[1, 1] / (matriz[1,1] + matriz[1, 0]) #acerto / acerto+erro 'label 2'\n",
    "\n",
    "print(\"Acurácia: {:.4f}\".format(acc))\n",
    "print(\"Sensitividade: {:.4f}\".format(sensitivity))\n",
    "print(\"Especificidade: {:.4f}\".format(specificity))"
   ]
  },
  {
   "cell_type": "markdown",
   "metadata": {},
   "source": [
    "## Aplicando kNN\n",
    "<li>Sem StandardScaler:<br>\n",
    "Acurácia: 0.9311<br>\n",
    "Sensitividade: 0.9805<br>\n",
    "Especificidade: 0.4103<br>\n",
    "</li><br>\n",
    "<li>Com StandardScaler:<br>\n",
    "Acurácia: 0.9303<br>\n",
    "Sensitividade: 0.9846<br>\n",
    "Especificidade: 0.3590<br>\n",
    "</li>"
   ]
  },
  {
   "cell_type": "code",
   "execution_count": 18,
   "metadata": {},
   "outputs": [
    {
     "data": {
      "text/plain": [
       "KNeighborsClassifier(algorithm='auto', leaf_size=30, metric='minkowski',\n",
       "                     metric_params=None, n_jobs=None, n_neighbors=5, p=2,\n",
       "                     weights='uniform')"
      ]
     },
     "execution_count": 18,
     "metadata": {},
     "output_type": "execute_result"
    }
   ],
   "source": [
    "from sklearn.neighbors import KNeighborsClassifier\n",
    "knn = KNeighborsClassifier(n_neighbors=5, metric='minkowski', p=2) #metric='minkowski' e p=2 estamos na condição de distância euclidiana\n",
    "knn.fit(xi_train, y_train)"
   ]
  },
  {
   "cell_type": "code",
   "execution_count": 19,
   "metadata": {},
   "outputs": [
    {
     "data": {
      "text/plain": [
       "array(['negative', 'negative', 'negative', ..., 'positive', 'negative',\n",
       "       'negative'], dtype=object)"
      ]
     },
     "execution_count": 19,
     "metadata": {},
     "output_type": "execute_result"
    }
   ],
   "source": [
    "y_pred = knn.predict(xi_test)\n",
    "y_pred"
   ]
  },
  {
   "cell_type": "code",
   "execution_count": 20,
   "metadata": {},
   "outputs": [
    {
     "data": {
      "text/plain": [
       "0.9303187546330616"
      ]
     },
     "execution_count": 20,
     "metadata": {},
     "output_type": "execute_result"
    }
   ],
   "source": [
    "# Acurácia\n",
    "from sklearn.metrics import accuracy_score\n",
    "acc = accuracy_score(y_test, y_pred)\n",
    "acc"
   ]
  },
  {
   "cell_type": "code",
   "execution_count": 21,
   "metadata": {},
   "outputs": [
    {
     "data": {
      "image/png": "[encoded data removed]",
      "text/plain": [
       "<Figure size 432x432 with 1 Axes>"
      ]
     },
     "metadata": {
      "needs_background": "light"
     },
     "output_type": "display_data"
    }
   ],
   "source": [
    "#matriz confusão\n",
    "from sklearn.metrics import confusion_matrix\n",
    "from mlxtend.plotting import plot_confusion_matrix\n",
    "matriz = confusion_matrix(y_test, y_pred)\n",
    "fig, ax = plot_confusion_matrix(conf_mat=matriz, figsize=(6,6))"
   ]
  },
  {
   "cell_type": "code",
   "execution_count": 22,
   "metadata": {},
   "outputs": [
    {
     "name": "stdout",
     "output_type": "stream",
     "text": [
      "Acurácia: 0.9303\n",
      "Sensitividade: 0.9846\n",
      "Especificidade: 0.3590\n"
     ]
    }
   ],
   "source": [
    "#Acurácia, Sensitividade, Especificidade\n",
    "total = sum(sum(matriz)) #só 1 sum soma apenas cruzado, 2 sum soma tudo\n",
    "acc = acc\n",
    "sensitivity = matriz[0, 0] / (matriz[0, 0] + matriz[0, 1]) #acerto / acerto+erro 'label 1'\n",
    "specificity = matriz[1, 1] / (matriz[1,1] + matriz[1, 0]) #acerto / acerto+erro 'label 2'\n",
    "\n",
    "print(\"Acurácia: {:.4f}\".format(acc))\n",
    "print(\"Sensitividade: {:.4f}\".format(sensitivity))\n",
    "print(\"Especificidade: {:.4f}\".format(specificity))"
   ]
  },
  {
   "cell_type": "markdown",
   "metadata": {},
   "source": [
    "#### Análise do kNN varrendo késimo vizinho\n",
    "<li>Análise feita sem Standardscale</li>\n",
    "<li>A melhor acurácia foi em k=7, porém a melhor especificidade foi em k=1</li>"
   ]
  },
  {
   "cell_type": "code",
   "execution_count": 29,
   "metadata": {
    "scrolled": true
   },
   "outputs": [
    {
     "name": "stderr",
     "output_type": "stream",
     "text": [
      "  7%|▋         | 1/14 [00:11<02:29, 11.49s/it]"
     ]
    },
    {
     "name": "stdout",
     "output_type": "stream",
     "text": [
      "k = 1, Acurácia: 0.9259\n",
      "k = 1, Sensitividade: 0.9578\n",
      "k = 1, Especificidade: 0.5897\n"
     ]
    },
    {
     "name": "stderr",
     "output_type": "stream",
     "text": [
      "\r",
      " 14%|█▍        | 2/14 [00:23<02:20, 11.67s/it]"
     ]
    },
    {
     "name": "stdout",
     "output_type": "stream",
     "text": [
      "k = 2, Acurácia: 0.9311\n",
      "k = 2, Sensitividade: 0.9830\n",
      "k = 2, Especificidade: 0.3846\n"
     ]
    },
    {
     "name": "stderr",
     "output_type": "stream",
     "text": [
      "\r",
      " 21%|██▏       | 3/14 [00:35<02:09, 11.81s/it]"
     ]
    },
    {
     "name": "stdout",
     "output_type": "stream",
     "text": [
      "k = 3, Acurácia: 0.9311\n",
      "k = 3, Sensitividade: 0.9740\n",
      "k = 3, Especificidade: 0.4786\n"
     ]
    },
    {
     "name": "stderr",
     "output_type": "stream",
     "text": [
      "\r",
      " 29%|██▊       | 4/14 [00:47<01:59, 11.91s/it]"
     ]
    },
    {
     "name": "stdout",
     "output_type": "stream",
     "text": [
      "k = 4, Acurácia: 0.9311\n",
      "k = 4, Sensitividade: 0.9894\n",
      "k = 4, Especificidade: 0.3162\n"
     ]
    },
    {
     "name": "stderr",
     "output_type": "stream",
     "text": [
      "\r",
      " 36%|███▌      | 5/14 [01:00<01:47, 11.98s/it]"
     ]
    },
    {
     "name": "stdout",
     "output_type": "stream",
     "text": [
      "k = 5, Acurácia: 0.9311\n",
      "k = 5, Sensitividade: 0.9805\n",
      "k = 5, Especificidade: 0.4103\n"
     ]
    },
    {
     "name": "stderr",
     "output_type": "stream",
     "text": [
      "\r",
      " 43%|████▎     | 6/14 [01:12<01:36, 12.03s/it]"
     ]
    },
    {
     "name": "stdout",
     "output_type": "stream",
     "text": [
      "k = 6, Acurácia: 0.9288\n",
      "k = 6, Sensitividade: 0.9886\n",
      "k = 6, Especificidade: 0.2991\n"
     ]
    },
    {
     "name": "stderr",
     "output_type": "stream",
     "text": [
      "\r",
      " 50%|█████     | 7/14 [01:24<01:24, 12.07s/it]"
     ]
    },
    {
     "name": "stdout",
     "output_type": "stream",
     "text": [
      "k = 7, Acurácia: 0.9325\n",
      "k = 7, Sensitividade: 0.9878\n",
      "k = 7, Especificidade: 0.3504\n"
     ]
    },
    {
     "name": "stderr",
     "output_type": "stream",
     "text": [
      "\r",
      " 57%|█████▋    | 8/14 [01:36<01:12, 12.09s/it]"
     ]
    },
    {
     "name": "stdout",
     "output_type": "stream",
     "text": [
      "k = 8, Acurácia: 0.9266\n",
      "k = 8, Sensitividade: 0.9878\n",
      "k = 8, Especificidade: 0.2821\n"
     ]
    },
    {
     "name": "stderr",
     "output_type": "stream",
     "text": [
      "\r",
      " 64%|██████▍   | 9/14 [01:48<01:00, 12.10s/it]"
     ]
    },
    {
     "name": "stdout",
     "output_type": "stream",
     "text": [
      "k = 9, Acurácia: 0.9288\n",
      "k = 9, Sensitividade: 0.9878\n",
      "k = 9, Especificidade: 0.3077\n"
     ]
    },
    {
     "name": "stderr",
     "output_type": "stream",
     "text": [
      "\r",
      " 71%|███████▏  | 10/14 [02:00<00:48, 12.11s/it]"
     ]
    },
    {
     "name": "stdout",
     "output_type": "stream",
     "text": [
      "k = 10, Acurácia: 0.9281\n",
      "k = 10, Sensitividade: 0.9903\n",
      "k = 10, Especificidade: 0.2735\n"
     ]
    },
    {
     "name": "stderr",
     "output_type": "stream",
     "text": [
      "\r",
      " 79%|███████▊  | 11/14 [02:12<00:36, 12.13s/it]"
     ]
    },
    {
     "name": "stdout",
     "output_type": "stream",
     "text": [
      "k = 11, Acurácia: 0.9288\n",
      "k = 11, Sensitividade: 0.9886\n",
      "k = 11, Especificidade: 0.2991\n"
     ]
    },
    {
     "name": "stderr",
     "output_type": "stream",
     "text": [
      "\r",
      " 86%|████████▌ | 12/14 [02:25<00:24, 12.13s/it]"
     ]
    },
    {
     "name": "stdout",
     "output_type": "stream",
     "text": [
      "k = 12, Acurácia: 0.9274\n",
      "k = 12, Sensitividade: 0.9919\n",
      "k = 12, Especificidade: 0.2479\n"
     ]
    },
    {
     "name": "stderr",
     "output_type": "stream",
     "text": [
      "\r",
      " 93%|█████████▎| 13/14 [02:37<00:12, 12.13s/it]"
     ]
    },
    {
     "name": "stdout",
     "output_type": "stream",
     "text": [
      "k = 13, Acurácia: 0.9274\n",
      "k = 13, Sensitividade: 0.9903\n",
      "k = 13, Especificidade: 0.2650\n"
     ]
    },
    {
     "name": "stderr",
     "output_type": "stream",
     "text": [
      "100%|██████████| 14/14 [02:49<00:00, 12.09s/it]"
     ]
    },
    {
     "name": "stdout",
     "output_type": "stream",
     "text": [
      "k = 14, Acurácia: 0.9236\n",
      "k = 14, Sensitividade: 0.9927\n",
      "k = 14, Especificidade: 0.1966\n"
     ]
    },
    {
     "name": "stderr",
     "output_type": "stream",
     "text": [
      "\n"
     ]
    }
   ],
   "source": [
    "from sklearn.neighbors import KNeighborsClassifier\n",
    "from sklearn.metrics import accuracy_score\n",
    "from sklearn.metrics import confusion_matrix\n",
    "from tqdm import tqdm\n",
    "\n",
    "acclist = []\n",
    "for k in tqdm(range(1,15)):\n",
    "    knn = KNeighborsClassifier(n_neighbors=k, metric='minkowski', p=2) #metric='minkowski' e p=2 estamos na condição de distância euclidiana\n",
    "    knn.fit(xi_train, y_train)\n",
    "    y_pred = knn.predict(xi_test)\n",
    "    acc = accuracy_score(y_test, y_pred)\n",
    "    acclist.append(acc)\n",
    "    \n",
    "    matriz = confusion_matrix(y_test, y_pred)\n",
    "    total = sum(sum(matriz)) #só 1 sum soma apenas cruzado, 2 sum soma tudo\n",
    "    sensitivity = matriz[0, 0] / (matriz[0, 0] + matriz[0, 1]) #acerto / acerto+erro 'label 1'\n",
    "    specificity = matriz[1, 1] / (matriz[1,1] + matriz[1, 0]) #acerto / acerto+erro 'label 2'\n",
    "\n",
    "    print(\"k = {}, Acurácia: {:.4f}\".format(k, acc))\n",
    "    print(\"k = {}, Sensitividade: {:.4f}\".format(k, sensitivity))\n",
    "    print(\"k = {}, Especificidade: {:.4f}\".format(k, specificity))"
   ]
  },
  {
   "cell_type": "code",
   "execution_count": 33,
   "metadata": {},
   "outputs": [
    {
     "data": {
      "image/png": "[encoded data removed]",
      "text/plain": [
       "<Figure size 432x288 with 1 Axes>"
      ]
     },
     "metadata": {
      "needs_background": "light"
     },
     "output_type": "display_data"
    }
   ],
   "source": [
    "import matplotlib.pyplot as plt\n",
    "k = [x for x in range(1,15)]\n",
    "plt.plot(k, acclist)\n",
    "plt.xlabel('k')\n",
    "plt.ylabel('accuracy')\n",
    "plt.xticks(k)\n",
    "plt.show()"
   ]
  },
  {
   "cell_type": "markdown",
   "metadata": {},
   "source": [
    "# Aplicando Regressão logistica para classificação\n",
    "<li>Sem StandardScaler:<br>\n",
    "Acurácia: 0.9296<br>\n",
    "Sensitividade: 0.9773<br>\n",
    "Especificidade: 0.4274<br>\n",
    "</li><br>\n",
    "<li>Com StandardScaler:<br>\n",
    "Acurácia: 0.9118<br>\n",
    "Sensitividade: 0.9537<br>\n",
    "Especificidade: 0.4701<br>\n",
    "</li>"
   ]
  },
  {
   "cell_type": "code",
   "execution_count": 37,
   "metadata": {},
   "outputs": [
    {
     "data": {
      "text/plain": [
       "LogisticRegression(C=1.0, class_weight=None, dual=False, fit_intercept=True,\n",
       "                   intercept_scaling=1, l1_ratio=None, max_iter=1000,\n",
       "                   multi_class='auto', n_jobs=None, penalty='l2',\n",
       "                   random_state=0, solver='lbfgs', tol=0.0001, verbose=0,\n",
       "                   warm_start=False)"
      ]
     },
     "execution_count": 37,
     "metadata": {},
     "output_type": "execute_result"
    }
   ],
   "source": [
    "from sklearn.linear_model import LogisticRegression\n",
    "lr = LogisticRegression(random_state=0, max_iter=1000)\n",
    "lr.fit(xi_train, y_train)"
   ]
  },
  {
   "cell_type": "code",
   "execution_count": 38,
   "metadata": {},
   "outputs": [
    {
     "data": {
      "text/plain": [
       "array(['negative', 'negative', 'negative', ..., 'negative', 'negative',\n",
       "       'negative'], dtype=object)"
      ]
     },
     "execution_count": 38,
     "metadata": {},
     "output_type": "execute_result"
    }
   ],
   "source": [
    "#predição\n",
    "y_pred = lr.predict(xi_test)\n",
    "y_pred"
   ]
  },
  {
   "cell_type": "code",
   "execution_count": 39,
   "metadata": {},
   "outputs": [
    {
     "data": {
      "text/plain": [
       "0.9117865085248332"
      ]
     },
     "execution_count": 39,
     "metadata": {},
     "output_type": "execute_result"
    }
   ],
   "source": [
    "# Acurácia\n",
    "from sklearn.metrics import accuracy_score\n",
    "acc = accuracy_score(y_test, y_pred)\n",
    "acc"
   ]
  },
  {
   "cell_type": "code",
   "execution_count": 40,
   "metadata": {},
   "outputs": [
    {
     "data": {
      "image/png": "[encoded data removed]",
      "text/plain": [
       "<Figure size 432x432 with 1 Axes>"
      ]
     },
     "metadata": {
      "needs_background": "light"
     },
     "output_type": "display_data"
    }
   ],
   "source": [
    "#matriz confusão\n",
    "from sklearn.metrics import confusion_matrix\n",
    "from mlxtend.plotting import plot_confusion_matrix\n",
    "matriz = confusion_matrix(y_test, y_pred)\n",
    "fig, ax = plot_confusion_matrix(conf_mat=matriz, figsize=(6,6))"
   ]
  },
  {
   "cell_type": "code",
   "execution_count": 41,
   "metadata": {},
   "outputs": [
    {
     "name": "stdout",
     "output_type": "stream",
     "text": [
      "Acurácia: 0.9118\n",
      "Sensitividade: 0.9537\n",
      "Especificidade: 0.4701\n"
     ]
    }
   ],
   "source": [
    "#Acurácia, Sensitividade, Especificidade\n",
    "total = sum(sum(matriz)) #só 1 sum soma apenas cruzado, 2 sum soma tudo\n",
    "acc = acc\n",
    "sensitivity = matriz[0, 0] / (matriz[0, 0] + matriz[0, 1]) #acerto / acerto+erro 'label 1'\n",
    "specificity = matriz[1, 1] / (matriz[1,1] + matriz[1, 0]) #acerto / acerto+erro 'label 2'\n",
    "\n",
    "print(\"Acurácia: {:.4f}\".format(acc))\n",
    "print(\"Sensitividade: {:.4f}\".format(sensitivity))\n",
    "print(\"Especificidade: {:.4f}\".format(specificity))"
   ]
  },
  {
   "cell_type": "markdown",
   "metadata": {},
   "source": [
    "# Aplicando SVM para classificação"
   ]
  },
  {
   "cell_type": "code",
   "execution_count": 54,
   "metadata": {},
   "outputs": [
    {
     "data": {
      "text/plain": [
       "SVC(C=15, break_ties=False, cache_size=200, class_weight=None, coef0=0.0,\n",
       "    decision_function_shape='ovr', degree=3, gamma='scale', kernel='rbf',\n",
       "    max_iter=-1, probability=False, random_state=1, shrinking=True, tol=0.001,\n",
       "    verbose=False)"
      ]
     },
     "execution_count": 54,
     "metadata": {},
     "output_type": "execute_result"
    }
   ],
   "source": [
    "#rodando o modelo\n",
    "from sklearn.svm import SVC\n",
    "svm = SVC(C=15, kernel='rbf', random_state=1)\n",
    "svm.fit(xi_train, y_train)"
   ]
  },
  {
   "cell_type": "code",
   "execution_count": 55,
   "metadata": {},
   "outputs": [],
   "source": [
    "#predição\n",
    "y_pred = svm.predict(xi_test)"
   ]
  },
  {
   "cell_type": "code",
   "execution_count": 56,
   "metadata": {},
   "outputs": [
    {
     "data": {
      "text/plain": [
       "0.9436619718309859"
      ]
     },
     "execution_count": 56,
     "metadata": {},
     "output_type": "execute_result"
    }
   ],
   "source": [
    "# Acurácia\n",
    "from sklearn.metrics import accuracy_score\n",
    "acc = accuracy_score(y_test, y_pred)\n",
    "acc"
   ]
  },
  {
   "cell_type": "code",
   "execution_count": 57,
   "metadata": {},
   "outputs": [
    {
     "data": {
      "image/png": "[encoded data removed]",
      "text/plain": [
       "<Figure size 432x432 with 1 Axes>"
      ]
     },
     "metadata": {
      "needs_background": "light"
     },
     "output_type": "display_data"
    }
   ],
   "source": [
    "#matriz confusão\n",
    "from sklearn.metrics import confusion_matrix\n",
    "from mlxtend.plotting import plot_confusion_matrix\n",
    "matriz = confusion_matrix(y_test, y_pred)\n",
    "fig, ax = plot_confusion_matrix(conf_mat=matriz, figsize=(6,6))"
   ]
  },
  {
   "cell_type": "code",
   "execution_count": 58,
   "metadata": {},
   "outputs": [
    {
     "name": "stdout",
     "output_type": "stream",
     "text": [
      "Acurácia: 0.9437\n",
      "Sensitividade: 0.9878\n",
      "Especificidade: 0.4786\n"
     ]
    }
   ],
   "source": [
    "#Acurácia, Sensitividade, Especificidade\n",
    "total = sum(sum(matriz)) #só 1 sum soma apenas cruzado, 2 sum soma tudo\n",
    "acc = acc\n",
    "sensitivity = matriz[0, 0] / (matriz[0, 0] + matriz[0, 1]) #acerto / acerto+erro 'label 1'\n",
    "specificity = matriz[1, 1] / (matriz[1,1] + matriz[1, 0]) #acerto / acerto+erro 'label 2'\n",
    "\n",
    "print(\"Acurácia: {:.4f}\".format(acc))\n",
    "print(\"Sensitividade: {:.4f}\".format(sensitivity))\n",
    "print(\"Especificidade: {:.4f}\".format(specificity))"
   ]
  },
  {
   "cell_type": "markdown",
   "metadata": {},
   "source": [
    "# Utilizando Redes neurais (tensorflow/keras)"
   ]
  },
  {
   "cell_type": "code",
   "execution_count": 100,
   "metadata": {},
   "outputs": [],
   "source": [
    "import pandas as pd\n",
    "import numpy as np"
   ]
  },
  {
   "cell_type": "code",
   "execution_count": 101,
   "metadata": {},
   "outputs": [],
   "source": [
    "path = '/dados/banco_de_dados/Machine_Learning_UCI/qsar_toxicitydrugs/qsar_oral_toxicity.csv'\n",
    "df = pd.read_csv(path, sep=';', header=None)"
   ]
  },
  {
   "cell_type": "code",
   "execution_count": 102,
   "metadata": {},
   "outputs": [
    {
     "data": {
      "text/html": [
       "<div>\n",
       "<style scoped>\n",
       "    .dataframe tbody tr th:only-of-type {\n",
       "        vertical-align: middle;\n",
       "    }\n",
       "\n",
       "    .dataframe tbody tr th {\n",
       "        vertical-align: top;\n",
       "    }\n",
       "\n",
       "    .dataframe thead th {\n",
       "        text-align: right;\n",
       "    }\n",
       "</style>\n",
       "<table border=\"1\" class=\"dataframe\">\n",
       "  <thead>\n",
       "    <tr style=\"text-align: right;\">\n",
       "      <th></th>\n",
       "      <th>0</th>\n",
       "      <th>1</th>\n",
       "      <th>2</th>\n",
       "      <th>3</th>\n",
       "      <th>4</th>\n",
       "      <th>5</th>\n",
       "      <th>6</th>\n",
       "      <th>7</th>\n",
       "      <th>8</th>\n",
       "      <th>9</th>\n",
       "      <th>...</th>\n",
       "      <th>1015</th>\n",
       "      <th>1016</th>\n",
       "      <th>1017</th>\n",
       "      <th>1018</th>\n",
       "      <th>1019</th>\n",
       "      <th>1020</th>\n",
       "      <th>1021</th>\n",
       "      <th>1022</th>\n",
       "      <th>1023</th>\n",
       "      <th>y</th>\n",
       "    </tr>\n",
       "  </thead>\n",
       "  <tbody>\n",
       "    <tr>\n",
       "      <th>0</th>\n",
       "      <td>0</td>\n",
       "      <td>0</td>\n",
       "      <td>0</td>\n",
       "      <td>0</td>\n",
       "      <td>0</td>\n",
       "      <td>0</td>\n",
       "      <td>0</td>\n",
       "      <td>0</td>\n",
       "      <td>0</td>\n",
       "      <td>0</td>\n",
       "      <td>...</td>\n",
       "      <td>0</td>\n",
       "      <td>0</td>\n",
       "      <td>0</td>\n",
       "      <td>0</td>\n",
       "      <td>0</td>\n",
       "      <td>0</td>\n",
       "      <td>0</td>\n",
       "      <td>0</td>\n",
       "      <td>0</td>\n",
       "      <td>negative</td>\n",
       "    </tr>\n",
       "    <tr>\n",
       "      <th>1</th>\n",
       "      <td>0</td>\n",
       "      <td>0</td>\n",
       "      <td>1</td>\n",
       "      <td>0</td>\n",
       "      <td>0</td>\n",
       "      <td>0</td>\n",
       "      <td>0</td>\n",
       "      <td>0</td>\n",
       "      <td>0</td>\n",
       "      <td>0</td>\n",
       "      <td>...</td>\n",
       "      <td>0</td>\n",
       "      <td>0</td>\n",
       "      <td>0</td>\n",
       "      <td>0</td>\n",
       "      <td>0</td>\n",
       "      <td>0</td>\n",
       "      <td>0</td>\n",
       "      <td>0</td>\n",
       "      <td>0</td>\n",
       "      <td>negative</td>\n",
       "    </tr>\n",
       "    <tr>\n",
       "      <th>2</th>\n",
       "      <td>0</td>\n",
       "      <td>0</td>\n",
       "      <td>0</td>\n",
       "      <td>0</td>\n",
       "      <td>0</td>\n",
       "      <td>0</td>\n",
       "      <td>0</td>\n",
       "      <td>0</td>\n",
       "      <td>0</td>\n",
       "      <td>0</td>\n",
       "      <td>...</td>\n",
       "      <td>0</td>\n",
       "      <td>0</td>\n",
       "      <td>1</td>\n",
       "      <td>0</td>\n",
       "      <td>0</td>\n",
       "      <td>0</td>\n",
       "      <td>0</td>\n",
       "      <td>0</td>\n",
       "      <td>0</td>\n",
       "      <td>negative</td>\n",
       "    </tr>\n",
       "    <tr>\n",
       "      <th>3</th>\n",
       "      <td>0</td>\n",
       "      <td>0</td>\n",
       "      <td>0</td>\n",
       "      <td>0</td>\n",
       "      <td>0</td>\n",
       "      <td>0</td>\n",
       "      <td>0</td>\n",
       "      <td>1</td>\n",
       "      <td>0</td>\n",
       "      <td>0</td>\n",
       "      <td>...</td>\n",
       "      <td>0</td>\n",
       "      <td>0</td>\n",
       "      <td>0</td>\n",
       "      <td>0</td>\n",
       "      <td>0</td>\n",
       "      <td>0</td>\n",
       "      <td>0</td>\n",
       "      <td>0</td>\n",
       "      <td>0</td>\n",
       "      <td>negative</td>\n",
       "    </tr>\n",
       "    <tr>\n",
       "      <th>4</th>\n",
       "      <td>0</td>\n",
       "      <td>0</td>\n",
       "      <td>0</td>\n",
       "      <td>0</td>\n",
       "      <td>0</td>\n",
       "      <td>0</td>\n",
       "      <td>0</td>\n",
       "      <td>0</td>\n",
       "      <td>0</td>\n",
       "      <td>0</td>\n",
       "      <td>...</td>\n",
       "      <td>0</td>\n",
       "      <td>0</td>\n",
       "      <td>0</td>\n",
       "      <td>0</td>\n",
       "      <td>0</td>\n",
       "      <td>0</td>\n",
       "      <td>0</td>\n",
       "      <td>0</td>\n",
       "      <td>0</td>\n",
       "      <td>negative</td>\n",
       "    </tr>\n",
       "    <tr>\n",
       "      <th>...</th>\n",
       "      <td>...</td>\n",
       "      <td>...</td>\n",
       "      <td>...</td>\n",
       "      <td>...</td>\n",
       "      <td>...</td>\n",
       "      <td>...</td>\n",
       "      <td>...</td>\n",
       "      <td>...</td>\n",
       "      <td>...</td>\n",
       "      <td>...</td>\n",
       "      <td>...</td>\n",
       "      <td>...</td>\n",
       "      <td>...</td>\n",
       "      <td>...</td>\n",
       "      <td>...</td>\n",
       "      <td>...</td>\n",
       "      <td>...</td>\n",
       "      <td>...</td>\n",
       "      <td>...</td>\n",
       "      <td>...</td>\n",
       "      <td>...</td>\n",
       "    </tr>\n",
       "    <tr>\n",
       "      <th>8987</th>\n",
       "      <td>0</td>\n",
       "      <td>0</td>\n",
       "      <td>0</td>\n",
       "      <td>0</td>\n",
       "      <td>0</td>\n",
       "      <td>0</td>\n",
       "      <td>0</td>\n",
       "      <td>1</td>\n",
       "      <td>0</td>\n",
       "      <td>0</td>\n",
       "      <td>...</td>\n",
       "      <td>0</td>\n",
       "      <td>0</td>\n",
       "      <td>0</td>\n",
       "      <td>1</td>\n",
       "      <td>0</td>\n",
       "      <td>0</td>\n",
       "      <td>0</td>\n",
       "      <td>0</td>\n",
       "      <td>0</td>\n",
       "      <td>negative</td>\n",
       "    </tr>\n",
       "    <tr>\n",
       "      <th>8988</th>\n",
       "      <td>0</td>\n",
       "      <td>1</td>\n",
       "      <td>0</td>\n",
       "      <td>0</td>\n",
       "      <td>0</td>\n",
       "      <td>1</td>\n",
       "      <td>0</td>\n",
       "      <td>1</td>\n",
       "      <td>0</td>\n",
       "      <td>0</td>\n",
       "      <td>...</td>\n",
       "      <td>0</td>\n",
       "      <td>0</td>\n",
       "      <td>0</td>\n",
       "      <td>1</td>\n",
       "      <td>0</td>\n",
       "      <td>0</td>\n",
       "      <td>0</td>\n",
       "      <td>0</td>\n",
       "      <td>0</td>\n",
       "      <td>negative</td>\n",
       "    </tr>\n",
       "    <tr>\n",
       "      <th>8989</th>\n",
       "      <td>0</td>\n",
       "      <td>0</td>\n",
       "      <td>0</td>\n",
       "      <td>0</td>\n",
       "      <td>0</td>\n",
       "      <td>0</td>\n",
       "      <td>0</td>\n",
       "      <td>1</td>\n",
       "      <td>0</td>\n",
       "      <td>0</td>\n",
       "      <td>...</td>\n",
       "      <td>0</td>\n",
       "      <td>0</td>\n",
       "      <td>0</td>\n",
       "      <td>0</td>\n",
       "      <td>0</td>\n",
       "      <td>0</td>\n",
       "      <td>0</td>\n",
       "      <td>1</td>\n",
       "      <td>0</td>\n",
       "      <td>negative</td>\n",
       "    </tr>\n",
       "    <tr>\n",
       "      <th>8990</th>\n",
       "      <td>0</td>\n",
       "      <td>0</td>\n",
       "      <td>0</td>\n",
       "      <td>0</td>\n",
       "      <td>0</td>\n",
       "      <td>0</td>\n",
       "      <td>0</td>\n",
       "      <td>0</td>\n",
       "      <td>0</td>\n",
       "      <td>0</td>\n",
       "      <td>...</td>\n",
       "      <td>0</td>\n",
       "      <td>0</td>\n",
       "      <td>0</td>\n",
       "      <td>0</td>\n",
       "      <td>0</td>\n",
       "      <td>0</td>\n",
       "      <td>0</td>\n",
       "      <td>0</td>\n",
       "      <td>0</td>\n",
       "      <td>negative</td>\n",
       "    </tr>\n",
       "    <tr>\n",
       "      <th>8991</th>\n",
       "      <td>0</td>\n",
       "      <td>0</td>\n",
       "      <td>1</td>\n",
       "      <td>0</td>\n",
       "      <td>0</td>\n",
       "      <td>0</td>\n",
       "      <td>0</td>\n",
       "      <td>0</td>\n",
       "      <td>0</td>\n",
       "      <td>0</td>\n",
       "      <td>...</td>\n",
       "      <td>1</td>\n",
       "      <td>0</td>\n",
       "      <td>0</td>\n",
       "      <td>0</td>\n",
       "      <td>0</td>\n",
       "      <td>0</td>\n",
       "      <td>0</td>\n",
       "      <td>0</td>\n",
       "      <td>0</td>\n",
       "      <td>negative</td>\n",
       "    </tr>\n",
       "  </tbody>\n",
       "</table>\n",
       "<p>8992 rows × 1025 columns</p>\n",
       "</div>"
      ],
      "text/plain": [
       "      0  1  2  3  4  5  6  7  8  9  ...  1015  1016  1017  1018  1019  1020  \\\n",
       "0     0  0  0  0  0  0  0  0  0  0  ...     0     0     0     0     0     0   \n",
       "1     0  0  1  0  0  0  0  0  0  0  ...     0     0     0     0     0     0   \n",
       "2     0  0  0  0  0  0  0  0  0  0  ...     0     0     1     0     0     0   \n",
       "3     0  0  0  0  0  0  0  1  0  0  ...     0     0     0     0     0     0   \n",
       "4     0  0  0  0  0  0  0  0  0  0  ...     0     0     0     0     0     0   \n",
       "...  .. .. .. .. .. .. .. .. .. ..  ...   ...   ...   ...   ...   ...   ...   \n",
       "8987  0  0  0  0  0  0  0  1  0  0  ...     0     0     0     1     0     0   \n",
       "8988  0  1  0  0  0  1  0  1  0  0  ...     0     0     0     1     0     0   \n",
       "8989  0  0  0  0  0  0  0  1  0  0  ...     0     0     0     0     0     0   \n",
       "8990  0  0  0  0  0  0  0  0  0  0  ...     0     0     0     0     0     0   \n",
       "8991  0  0  1  0  0  0  0  0  0  0  ...     1     0     0     0     0     0   \n",
       "\n",
       "      1021  1022  1023         y  \n",
       "0        0     0     0  negative  \n",
       "1        0     0     0  negative  \n",
       "2        0     0     0  negative  \n",
       "3        0     0     0  negative  \n",
       "4        0     0     0  negative  \n",
       "...    ...   ...   ...       ...  \n",
       "8987     0     0     0  negative  \n",
       "8988     0     0     0  negative  \n",
       "8989     0     1     0  negative  \n",
       "8990     0     0     0  negative  \n",
       "8991     0     0     0  negative  \n",
       "\n",
       "[8992 rows x 1025 columns]"
      ]
     },
     "execution_count": 102,
     "metadata": {},
     "output_type": "execute_result"
    }
   ],
   "source": [
    "colnamess = [str(x) for x in range(0,1024)]\n",
    "colnamess.append('y')\n",
    "df.columns = colnamess #passando o nome das colunas para string\n",
    "df"
   ]
  },
  {
   "cell_type": "markdown",
   "metadata": {},
   "source": [
    "<li>Montando um novo Dataframe com o mesmo numero de positivos e negativos.</li>\n",
    "<li>Tentando melhorar a especificidade.</li>\n",
    "<li>Peguei todos os positivos (741), e peguei o mesmo numero de negativos aleatoriamente.</li>"
   ]
  },
  {
   "cell_type": "code",
   "execution_count": 103,
   "metadata": {},
   "outputs": [],
   "source": [
    "df_positive = df.loc[df['y'] == 'positive']\n",
    "df_negative = df.loc[df['y'] == 'negative'].sample(n=741, random_state=1)\n",
    "new_df = pd.concat([df_positive, df_negative])\n",
    "new_df = new_df.sample(n=1482, random_state=0)"
   ]
  },
  {
   "cell_type": "code",
   "execution_count": 104,
   "metadata": {},
   "outputs": [],
   "source": [
    "new_index = [x for x in range(len(new_df['y']))]"
   ]
  },
  {
   "cell_type": "code",
   "execution_count": 105,
   "metadata": {},
   "outputs": [
    {
     "data": {
      "text/html": [
       "<div>\n",
       "<style scoped>\n",
       "    .dataframe tbody tr th:only-of-type {\n",
       "        vertical-align: middle;\n",
       "    }\n",
       "\n",
       "    .dataframe tbody tr th {\n",
       "        vertical-align: top;\n",
       "    }\n",
       "\n",
       "    .dataframe thead th {\n",
       "        text-align: right;\n",
       "    }\n",
       "</style>\n",
       "<table border=\"1\" class=\"dataframe\">\n",
       "  <thead>\n",
       "    <tr style=\"text-align: right;\">\n",
       "      <th></th>\n",
       "      <th>0</th>\n",
       "      <th>1</th>\n",
       "      <th>2</th>\n",
       "      <th>3</th>\n",
       "      <th>4</th>\n",
       "      <th>5</th>\n",
       "      <th>6</th>\n",
       "      <th>7</th>\n",
       "      <th>8</th>\n",
       "      <th>9</th>\n",
       "      <th>...</th>\n",
       "      <th>1015</th>\n",
       "      <th>1016</th>\n",
       "      <th>1017</th>\n",
       "      <th>1018</th>\n",
       "      <th>1019</th>\n",
       "      <th>1020</th>\n",
       "      <th>1021</th>\n",
       "      <th>1022</th>\n",
       "      <th>1023</th>\n",
       "      <th>y</th>\n",
       "    </tr>\n",
       "  </thead>\n",
       "  <tbody>\n",
       "    <tr>\n",
       "      <th>0</th>\n",
       "      <td>1</td>\n",
       "      <td>0</td>\n",
       "      <td>1</td>\n",
       "      <td>0</td>\n",
       "      <td>0</td>\n",
       "      <td>0</td>\n",
       "      <td>0</td>\n",
       "      <td>0</td>\n",
       "      <td>0</td>\n",
       "      <td>0</td>\n",
       "      <td>...</td>\n",
       "      <td>0</td>\n",
       "      <td>0</td>\n",
       "      <td>0</td>\n",
       "      <td>0</td>\n",
       "      <td>0</td>\n",
       "      <td>0</td>\n",
       "      <td>0</td>\n",
       "      <td>0</td>\n",
       "      <td>0</td>\n",
       "      <td>positive</td>\n",
       "    </tr>\n",
       "    <tr>\n",
       "      <th>1</th>\n",
       "      <td>1</td>\n",
       "      <td>0</td>\n",
       "      <td>0</td>\n",
       "      <td>0</td>\n",
       "      <td>0</td>\n",
       "      <td>0</td>\n",
       "      <td>0</td>\n",
       "      <td>0</td>\n",
       "      <td>0</td>\n",
       "      <td>0</td>\n",
       "      <td>...</td>\n",
       "      <td>0</td>\n",
       "      <td>0</td>\n",
       "      <td>0</td>\n",
       "      <td>1</td>\n",
       "      <td>0</td>\n",
       "      <td>0</td>\n",
       "      <td>0</td>\n",
       "      <td>0</td>\n",
       "      <td>0</td>\n",
       "      <td>negative</td>\n",
       "    </tr>\n",
       "    <tr>\n",
       "      <th>2</th>\n",
       "      <td>0</td>\n",
       "      <td>0</td>\n",
       "      <td>0</td>\n",
       "      <td>0</td>\n",
       "      <td>0</td>\n",
       "      <td>0</td>\n",
       "      <td>1</td>\n",
       "      <td>0</td>\n",
       "      <td>0</td>\n",
       "      <td>0</td>\n",
       "      <td>...</td>\n",
       "      <td>0</td>\n",
       "      <td>0</td>\n",
       "      <td>1</td>\n",
       "      <td>0</td>\n",
       "      <td>0</td>\n",
       "      <td>0</td>\n",
       "      <td>0</td>\n",
       "      <td>0</td>\n",
       "      <td>0</td>\n",
       "      <td>positive</td>\n",
       "    </tr>\n",
       "    <tr>\n",
       "      <th>3</th>\n",
       "      <td>0</td>\n",
       "      <td>0</td>\n",
       "      <td>0</td>\n",
       "      <td>0</td>\n",
       "      <td>0</td>\n",
       "      <td>0</td>\n",
       "      <td>0</td>\n",
       "      <td>0</td>\n",
       "      <td>0</td>\n",
       "      <td>0</td>\n",
       "      <td>...</td>\n",
       "      <td>0</td>\n",
       "      <td>0</td>\n",
       "      <td>0</td>\n",
       "      <td>0</td>\n",
       "      <td>0</td>\n",
       "      <td>0</td>\n",
       "      <td>0</td>\n",
       "      <td>0</td>\n",
       "      <td>0</td>\n",
       "      <td>positive</td>\n",
       "    </tr>\n",
       "    <tr>\n",
       "      <th>4</th>\n",
       "      <td>0</td>\n",
       "      <td>0</td>\n",
       "      <td>0</td>\n",
       "      <td>0</td>\n",
       "      <td>0</td>\n",
       "      <td>0</td>\n",
       "      <td>1</td>\n",
       "      <td>1</td>\n",
       "      <td>0</td>\n",
       "      <td>0</td>\n",
       "      <td>...</td>\n",
       "      <td>0</td>\n",
       "      <td>0</td>\n",
       "      <td>0</td>\n",
       "      <td>0</td>\n",
       "      <td>0</td>\n",
       "      <td>0</td>\n",
       "      <td>0</td>\n",
       "      <td>0</td>\n",
       "      <td>0</td>\n",
       "      <td>positive</td>\n",
       "    </tr>\n",
       "    <tr>\n",
       "      <th>...</th>\n",
       "      <td>...</td>\n",
       "      <td>...</td>\n",
       "      <td>...</td>\n",
       "      <td>...</td>\n",
       "      <td>...</td>\n",
       "      <td>...</td>\n",
       "      <td>...</td>\n",
       "      <td>...</td>\n",
       "      <td>...</td>\n",
       "      <td>...</td>\n",
       "      <td>...</td>\n",
       "      <td>...</td>\n",
       "      <td>...</td>\n",
       "      <td>...</td>\n",
       "      <td>...</td>\n",
       "      <td>...</td>\n",
       "      <td>...</td>\n",
       "      <td>...</td>\n",
       "      <td>...</td>\n",
       "      <td>...</td>\n",
       "      <td>...</td>\n",
       "    </tr>\n",
       "    <tr>\n",
       "      <th>1477</th>\n",
       "      <td>0</td>\n",
       "      <td>0</td>\n",
       "      <td>0</td>\n",
       "      <td>0</td>\n",
       "      <td>0</td>\n",
       "      <td>0</td>\n",
       "      <td>0</td>\n",
       "      <td>0</td>\n",
       "      <td>0</td>\n",
       "      <td>0</td>\n",
       "      <td>...</td>\n",
       "      <td>0</td>\n",
       "      <td>0</td>\n",
       "      <td>0</td>\n",
       "      <td>0</td>\n",
       "      <td>0</td>\n",
       "      <td>0</td>\n",
       "      <td>0</td>\n",
       "      <td>0</td>\n",
       "      <td>0</td>\n",
       "      <td>negative</td>\n",
       "    </tr>\n",
       "    <tr>\n",
       "      <th>1478</th>\n",
       "      <td>0</td>\n",
       "      <td>0</td>\n",
       "      <td>0</td>\n",
       "      <td>0</td>\n",
       "      <td>0</td>\n",
       "      <td>0</td>\n",
       "      <td>0</td>\n",
       "      <td>0</td>\n",
       "      <td>0</td>\n",
       "      <td>0</td>\n",
       "      <td>...</td>\n",
       "      <td>0</td>\n",
       "      <td>0</td>\n",
       "      <td>0</td>\n",
       "      <td>0</td>\n",
       "      <td>0</td>\n",
       "      <td>0</td>\n",
       "      <td>0</td>\n",
       "      <td>0</td>\n",
       "      <td>0</td>\n",
       "      <td>negative</td>\n",
       "    </tr>\n",
       "    <tr>\n",
       "      <th>1479</th>\n",
       "      <td>0</td>\n",
       "      <td>0</td>\n",
       "      <td>0</td>\n",
       "      <td>0</td>\n",
       "      <td>0</td>\n",
       "      <td>0</td>\n",
       "      <td>1</td>\n",
       "      <td>1</td>\n",
       "      <td>0</td>\n",
       "      <td>0</td>\n",
       "      <td>...</td>\n",
       "      <td>0</td>\n",
       "      <td>0</td>\n",
       "      <td>0</td>\n",
       "      <td>0</td>\n",
       "      <td>0</td>\n",
       "      <td>0</td>\n",
       "      <td>0</td>\n",
       "      <td>0</td>\n",
       "      <td>0</td>\n",
       "      <td>negative</td>\n",
       "    </tr>\n",
       "    <tr>\n",
       "      <th>1480</th>\n",
       "      <td>1</td>\n",
       "      <td>0</td>\n",
       "      <td>0</td>\n",
       "      <td>0</td>\n",
       "      <td>0</td>\n",
       "      <td>0</td>\n",
       "      <td>0</td>\n",
       "      <td>0</td>\n",
       "      <td>1</td>\n",
       "      <td>0</td>\n",
       "      <td>...</td>\n",
       "      <td>0</td>\n",
       "      <td>0</td>\n",
       "      <td>0</td>\n",
       "      <td>0</td>\n",
       "      <td>0</td>\n",
       "      <td>0</td>\n",
       "      <td>0</td>\n",
       "      <td>0</td>\n",
       "      <td>0</td>\n",
       "      <td>positive</td>\n",
       "    </tr>\n",
       "    <tr>\n",
       "      <th>1481</th>\n",
       "      <td>0</td>\n",
       "      <td>0</td>\n",
       "      <td>0</td>\n",
       "      <td>0</td>\n",
       "      <td>0</td>\n",
       "      <td>0</td>\n",
       "      <td>0</td>\n",
       "      <td>1</td>\n",
       "      <td>0</td>\n",
       "      <td>0</td>\n",
       "      <td>...</td>\n",
       "      <td>0</td>\n",
       "      <td>0</td>\n",
       "      <td>0</td>\n",
       "      <td>1</td>\n",
       "      <td>0</td>\n",
       "      <td>0</td>\n",
       "      <td>0</td>\n",
       "      <td>0</td>\n",
       "      <td>0</td>\n",
       "      <td>positive</td>\n",
       "    </tr>\n",
       "  </tbody>\n",
       "</table>\n",
       "<p>1482 rows × 1025 columns</p>\n",
       "</div>"
      ],
      "text/plain": [
       "      0  1  2  3  4  5  6  7  8  9  ...  1015  1016  1017  1018  1019  1020  \\\n",
       "0     1  0  1  0  0  0  0  0  0  0  ...     0     0     0     0     0     0   \n",
       "1     1  0  0  0  0  0  0  0  0  0  ...     0     0     0     1     0     0   \n",
       "2     0  0  0  0  0  0  1  0  0  0  ...     0     0     1     0     0     0   \n",
       "3     0  0  0  0  0  0  0  0  0  0  ...     0     0     0     0     0     0   \n",
       "4     0  0  0  0  0  0  1  1  0  0  ...     0     0     0     0     0     0   \n",
       "...  .. .. .. .. .. .. .. .. .. ..  ...   ...   ...   ...   ...   ...   ...   \n",
       "1477  0  0  0  0  0  0  0  0  0  0  ...     0     0     0     0     0     0   \n",
       "1478  0  0  0  0  0  0  0  0  0  0  ...     0     0     0     0     0     0   \n",
       "1479  0  0  0  0  0  0  1  1  0  0  ...     0     0     0     0     0     0   \n",
       "1480  1  0  0  0  0  0  0  0  1  0  ...     0     0     0     0     0     0   \n",
       "1481  0  0  0  0  0  0  0  1  0  0  ...     0     0     0     1     0     0   \n",
       "\n",
       "      1021  1022  1023         y  \n",
       "0        0     0     0  positive  \n",
       "1        0     0     0  negative  \n",
       "2        0     0     0  positive  \n",
       "3        0     0     0  positive  \n",
       "4        0     0     0  positive  \n",
       "...    ...   ...   ...       ...  \n",
       "1477     0     0     0  negative  \n",
       "1478     0     0     0  negative  \n",
       "1479     0     0     0  negative  \n",
       "1480     0     0     0  positive  \n",
       "1481     0     0     0  positive  \n",
       "\n",
       "[1482 rows x 1025 columns]"
      ]
     },
     "execution_count": 105,
     "metadata": {},
     "output_type": "execute_result"
    }
   ],
   "source": [
    "new_df.index = new_index\n",
    "new_df"
   ]
  },
  {
   "cell_type": "code",
   "execution_count": 106,
   "metadata": {},
   "outputs": [],
   "source": [
    "xi = new_df.iloc[:, 0:1024].values\n",
    "y = new_df.iloc[:, 1024].values"
   ]
  },
  {
   "cell_type": "code",
   "execution_count": 107,
   "metadata": {},
   "outputs": [],
   "source": [
    "from sklearn.preprocessing import LabelEncoder\n",
    "encond = LabelEncoder()\n",
    "y = encond.fit_transform(y) #0 negative 1 positive"
   ]
  },
  {
   "cell_type": "code",
   "execution_count": 90,
   "metadata": {},
   "outputs": [
    {
     "data": {
      "text/plain": [
       "array([[ 2.07192112, -0.22761765,  3.29484446, ..., -0.1577855 ,\n",
       "        -0.15323401, -0.14855627],\n",
       "       [ 2.07192112, -0.22761765, -0.30350446, ..., -0.1577855 ,\n",
       "        -0.15323401, -0.14855627],\n",
       "       [-0.48264386, -0.22761765, -0.30350446, ..., -0.1577855 ,\n",
       "        -0.15323401, -0.14855627],\n",
       "       ...,\n",
       "       [-0.48264386, -0.22761765, -0.30350446, ..., -0.1577855 ,\n",
       "        -0.15323401, -0.14855627],\n",
       "       [ 2.07192112, -0.22761765, -0.30350446, ..., -0.1577855 ,\n",
       "        -0.15323401, -0.14855627],\n",
       "       [-0.48264386, -0.22761765, -0.30350446, ..., -0.1577855 ,\n",
       "        -0.15323401, -0.14855627]])"
      ]
     },
     "execution_count": 90,
     "metadata": {},
     "output_type": "execute_result"
    }
   ],
   "source": [
    "#Aplicando reescalonamento\n",
    "from sklearn.preprocessing import StandardScaler\n",
    "ss = StandardScaler()\n",
    "xi = ss.fit_transform(xi)\n",
    "xi"
   ]
  },
  {
   "cell_type": "code",
   "execution_count": 217,
   "metadata": {},
   "outputs": [],
   "source": [
    "from sklearn.model_selection import train_test_split\n",
    "xi_train, xi_test, y_train, y_test = train_test_split(xi, y, test_size=0.15, random_state=600)"
   ]
  },
  {
   "cell_type": "code",
   "execution_count": 218,
   "metadata": {},
   "outputs": [
    {
     "name": "stdout",
     "output_type": "stream",
     "text": [
      "Treino = 1259, Teste = 223\n"
     ]
    }
   ],
   "source": [
    "print('Treino = {}, Teste = {}'.format(len(xi_train), len(xi_test)))"
   ]
  },
  {
   "cell_type": "code",
   "execution_count": 235,
   "metadata": {},
   "outputs": [],
   "source": [
    "#Hiperparametros\n",
    "batch_size=8\n",
    "epoch = 100\n",
    "alpha = 1e-4"
   ]
  },
  {
   "cell_type": "code",
   "execution_count": 236,
   "metadata": {},
   "outputs": [],
   "source": [
    "#Callbacks (Nao utilizei)\n",
    "from keras.callbacks import ModelCheckpoint, ReduceLROnPlateau\n",
    "weight_file = 'weights_jeff.hdf5'\n",
    "checkpoint = ModelCheckpoint(filepath=weight_file, monitor='val_accuracy', verbose=1, save_best_only=True, mode='max')\n",
    "\n",
    "lr_reduce = ReduceLROnPlateau(monitor='val_accuracy', factor=0.01, min_delta=alpha, patience=5, verbose=1)\n",
    "\n",
    "callbacks = [checkpoint, lr_reduce]"
   ]
  },
  {
   "cell_type": "code",
   "execution_count": 237,
   "metadata": {},
   "outputs": [],
   "source": [
    "#Modelo\n",
    "from keras.models import Sequential\n",
    "from keras.layers import Dense, Dropout\n",
    "\n",
    "rede = Sequential() #instanciando a nossa rede\n",
    "rede.add(Dense(units=600, activation='relu', input_dim=1024))\n",
    "rede.add(Dense(units=500, activation='relu'))\n",
    "rede.add(Dense(units=400, activation='relu'))\n",
    "rede.add(Dropout(0.6, seed=600))\n",
    "rede.add(Dense(units=300, activation='relu'))\n",
    "rede.add(Dense(units=200, activation='relu'))\n",
    "rede.add(Dense(units=100, activation='relu'))\n",
    "rede.add(Dense(units=1, activation='sigmoid')) #Camada de saída"
   ]
  },
  {
   "cell_type": "code",
   "execution_count": 238,
   "metadata": {
    "scrolled": true
   },
   "outputs": [
    {
     "name": "stdout",
     "output_type": "stream",
     "text": [
      "Model: \"sequential_28\"\n",
      "_________________________________________________________________\n",
      "Layer (type)                 Output Shape              Param #   \n",
      "=================================================================\n",
      "dense_110 (Dense)            (None, 600)               615000    \n",
      "_________________________________________________________________\n",
      "dense_111 (Dense)            (None, 500)               300500    \n",
      "_________________________________________________________________\n",
      "dense_112 (Dense)            (None, 400)               200400    \n",
      "_________________________________________________________________\n",
      "dropout_22 (Dropout)         (None, 400)               0         \n",
      "_________________________________________________________________\n",
      "dense_113 (Dense)            (None, 300)               120300    \n",
      "_________________________________________________________________\n",
      "dense_114 (Dense)            (None, 200)               60200     \n",
      "_________________________________________________________________\n",
      "dense_115 (Dense)            (None, 100)               20100     \n",
      "_________________________________________________________________\n",
      "dense_116 (Dense)            (None, 1)                 101       \n",
      "=================================================================\n",
      "Total params: 1,316,601\n",
      "Trainable params: 1,316,601\n",
      "Non-trainable params: 0\n",
      "_________________________________________________________________\n"
     ]
    }
   ],
   "source": [
    "rede.summary()"
   ]
  },
  {
   "cell_type": "code",
   "execution_count": 250,
   "metadata": {
    "scrolled": true
   },
   "outputs": [
    {
     "name": "stdout",
     "output_type": "stream",
     "text": [
      "Epoch 1/100\n",
      "1259/1259 [==============================] - 1s 639us/step - loss: 5.3955e-10 - accuracy: 1.0000\n",
      "Epoch 2/100\n",
      "1259/1259 [==============================] - 1s 506us/step - loss: 1.3830e-11 - accuracy: 1.0000\n",
      "Epoch 3/100\n",
      "1259/1259 [==============================] - 1s 508us/step - loss: 4.0656e-11 - accuracy: 1.0000\n",
      "Epoch 4/100\n",
      "1259/1259 [==============================] - 1s 499us/step - loss: 2.9983e-10 - accuracy: 1.0000\n",
      "Epoch 5/100\n",
      "1259/1259 [==============================] - 1s 494us/step - loss: 7.8520e-11 - accuracy: 1.0000\n",
      "Epoch 6/100\n",
      "1259/1259 [==============================] - 1s 491us/step - loss: 0.2175 - accuracy: 0.9698\n",
      "Epoch 7/100\n",
      "1259/1259 [==============================] - 1s 503us/step - loss: 0.3048 - accuracy: 0.9039\n",
      "Epoch 8/100\n",
      "1259/1259 [==============================] - 1s 497us/step - loss: 0.0855 - accuracy: 0.9778\n",
      "Epoch 9/100\n",
      "1259/1259 [==============================] - 1s 498us/step - loss: 0.0279 - accuracy: 0.9944\n",
      "Epoch 10/100\n",
      "1259/1259 [==============================] - 1s 505us/step - loss: 0.0805 - accuracy: 0.9801\n",
      "Epoch 11/100\n",
      "1259/1259 [==============================] - 1s 496us/step - loss: 0.0293 - accuracy: 0.9944\n",
      "Epoch 12/100\n",
      "1259/1259 [==============================] - 1s 506us/step - loss: 0.0086 - accuracy: 0.9976\n",
      "Epoch 13/100\n",
      "1259/1259 [==============================] - 1s 515us/step - loss: 4.3286e-04 - accuracy: 1.0000\n",
      "Epoch 14/100\n",
      "1259/1259 [==============================] - 1s 520us/step - loss: 0.0862 - accuracy: 0.9881\n",
      "Epoch 15/100\n",
      "1259/1259 [==============================] - 1s 519us/step - loss: 0.0744 - accuracy: 0.9905\n",
      "Epoch 16/100\n",
      "1259/1259 [==============================] - 1s 517us/step - loss: 0.0152 - accuracy: 0.9936\n",
      "Epoch 17/100\n",
      "1259/1259 [==============================] - 1s 509us/step - loss: 0.0269 - accuracy: 0.9936\n",
      "Epoch 18/100\n",
      "1259/1259 [==============================] - 1s 509us/step - loss: 0.0520 - accuracy: 0.9960\n",
      "Epoch 19/100\n",
      "1259/1259 [==============================] - 1s 504us/step - loss: 0.0249 - accuracy: 0.9952\n",
      "Epoch 20/100\n",
      "1259/1259 [==============================] - 1s 509us/step - loss: 0.0123 - accuracy: 0.9976\n",
      "Epoch 21/100\n",
      "1259/1259 [==============================] - 1s 505us/step - loss: 1.4863e-04 - accuracy: 1.0000\n",
      "Epoch 22/100\n",
      "1259/1259 [==============================] - 1s 507us/step - loss: 9.4950e-06 - accuracy: 1.0000\n",
      "Epoch 23/100\n",
      "1259/1259 [==============================] - 1s 493us/step - loss: 2.0964e-07 - accuracy: 1.0000\n",
      "Epoch 24/100\n",
      "1259/1259 [==============================] - 1s 489us/step - loss: 0.0353 - accuracy: 0.9873\n",
      "Epoch 25/100\n",
      "1259/1259 [==============================] - 1s 504us/step - loss: 0.0392 - accuracy: 0.9873\n",
      "Epoch 26/100\n",
      "1259/1259 [==============================] - 1s 518us/step - loss: 0.0600 - accuracy: 0.9968\n",
      "Epoch 27/100\n",
      "1259/1259 [==============================] - 1s 509us/step - loss: 0.0261 - accuracy: 0.9936\n",
      "Epoch 28/100\n",
      "1259/1259 [==============================] - 1s 510us/step - loss: 0.0013 - accuracy: 1.0000\n",
      "Epoch 29/100\n",
      "1259/1259 [==============================] - 1s 529us/step - loss: 2.9888e-04 - accuracy: 1.0000\n",
      "Epoch 30/100\n",
      "1259/1259 [==============================] - 1s 520us/step - loss: 8.2245e-05 - accuracy: 1.0000\n",
      "Epoch 31/100\n",
      "1259/1259 [==============================] - 1s 520us/step - loss: 1.6946e-05 - accuracy: 1.0000\n",
      "Epoch 32/100\n",
      "1259/1259 [==============================] - 1s 511us/step - loss: 2.1340e-05 - accuracy: 1.0000\n",
      "Epoch 33/100\n",
      "1259/1259 [==============================] - 1s 505us/step - loss: 2.7385e-05 - accuracy: 1.0000\n",
      "Epoch 34/100\n",
      "1259/1259 [==============================] - 1s 503us/step - loss: 1.2809e-04 - accuracy: 1.0000\n",
      "Epoch 35/100\n",
      "1259/1259 [==============================] - 1s 503us/step - loss: 2.6318e-06 - accuracy: 1.0000\n",
      "Epoch 36/100\n",
      "1259/1259 [==============================] - 1s 504us/step - loss: 2.0532e-05 - accuracy: 1.0000\n",
      "Epoch 37/100\n",
      "1259/1259 [==============================] - 1s 526us/step - loss: 6.1309e-06 - accuracy: 1.0000\n",
      "Epoch 38/100\n",
      "1259/1259 [==============================] - 1s 526us/step - loss: 5.0524e-06 - accuracy: 1.0000\n",
      "Epoch 39/100\n",
      "1259/1259 [==============================] - 1s 504us/step - loss: 1.3737e-06 - accuracy: 1.0000\n",
      "Epoch 40/100\n",
      "1259/1259 [==============================] - 1s 496us/step - loss: 4.1403e-07 - accuracy: 1.0000\n",
      "Epoch 41/100\n",
      "1259/1259 [==============================] - 1s 502us/step - loss: 1.3302e-06 - accuracy: 1.0000\n",
      "Epoch 42/100\n",
      "1259/1259 [==============================] - 1s 490us/step - loss: 2.8287e-07 - accuracy: 1.0000\n",
      "Epoch 43/100\n",
      "1259/1259 [==============================] - 1s 498us/step - loss: 2.4207e-06 - accuracy: 1.0000\n",
      "Epoch 44/100\n",
      "1259/1259 [==============================] - 1s 495us/step - loss: 5.5166e-07 - accuracy: 1.0000\n",
      "Epoch 45/100\n",
      "1259/1259 [==============================] - 1s 522us/step - loss: 5.7899e-08 - accuracy: 1.0000\n",
      "Epoch 46/100\n",
      "1259/1259 [==============================] - 1s 491us/step - loss: 5.8507e-06 - accuracy: 1.0000\n",
      "Epoch 47/100\n",
      "1259/1259 [==============================] - 1s 490us/step - loss: 1.9029e-06 - accuracy: 1.0000\n",
      "Epoch 48/100\n",
      "1259/1259 [==============================] - 1s 480us/step - loss: 6.6625e-06 - accuracy: 1.0000\n",
      "Epoch 49/100\n",
      "1259/1259 [==============================] - 1s 481us/step - loss: 8.3890e-08 - accuracy: 1.0000\n",
      "Epoch 50/100\n",
      "1259/1259 [==============================] - 1s 486us/step - loss: 5.7821e-08 - accuracy: 1.0000\n",
      "Epoch 51/100\n",
      "1259/1259 [==============================] - 1s 509us/step - loss: 3.7004e-08 - accuracy: 1.0000\n",
      "Epoch 52/100\n",
      "1259/1259 [==============================] - 1s 512us/step - loss: 4.8894e-08 - accuracy: 1.0000\n",
      "Epoch 53/100\n",
      "1259/1259 [==============================] - 1s 504us/step - loss: 4.9028e-07 - accuracy: 1.0000\n",
      "Epoch 54/100\n",
      "1259/1259 [==============================] - 1s 509us/step - loss: 8.3126e-07 - accuracy: 1.0000\n",
      "Epoch 55/100\n",
      "1259/1259 [==============================] - 1s 523us/step - loss: 9.5750e-08 - accuracy: 1.0000\n",
      "Epoch 56/100\n",
      "1259/1259 [==============================] - 1s 535us/step - loss: 5.9516e-07 - accuracy: 1.0000\n",
      "Epoch 57/100\n",
      "1259/1259 [==============================] - 1s 524us/step - loss: 1.7712e-06 - accuracy: 1.0000\n",
      "Epoch 58/100\n",
      "1259/1259 [==============================] - 1s 492us/step - loss: 1.3883e-09 - accuracy: 1.0000\n",
      "Epoch 59/100\n",
      "1259/1259 [==============================] - 1s 493us/step - loss: 2.5730e-08 - accuracy: 1.0000\n",
      "Epoch 60/100\n",
      "1259/1259 [==============================] - 1s 507us/step - loss: 5.0513e-08 - accuracy: 1.0000\n",
      "Epoch 61/100\n",
      "1259/1259 [==============================] - 1s 510us/step - loss: 5.9923e-08 - accuracy: 1.0000\n",
      "Epoch 62/100\n",
      "1259/1259 [==============================] - 1s 497us/step - loss: 1.1669e-08 - accuracy: 1.0000\n",
      "Epoch 63/100\n",
      "1259/1259 [==============================] - 1s 475us/step - loss: 4.4898e-07 - accuracy: 1.0000\n",
      "Epoch 64/100\n",
      "1259/1259 [==============================] - 1s 483us/step - loss: 2.5497e-08 - accuracy: 1.0000\n",
      "Epoch 65/100\n",
      "1259/1259 [==============================] - 1s 491us/step - loss: 4.4344e-09 - accuracy: 1.0000\n",
      "Epoch 66/100\n",
      "1259/1259 [==============================] - 1s 486us/step - loss: 9.0350e-09 - accuracy: 1.0000\n",
      "Epoch 67/100\n",
      "1259/1259 [==============================] - 1s 488us/step - loss: 2.9446e-09 - accuracy: 1.0000\n",
      "Epoch 68/100\n",
      "1259/1259 [==============================] - 1s 497us/step - loss: 1.9623e-09 - accuracy: 1.0000\n",
      "Epoch 69/100\n",
      "1259/1259 [==============================] - 1s 500us/step - loss: 8.4208e-08 - accuracy: 1.0000\n",
      "Epoch 70/100\n",
      "1259/1259 [==============================] - 1s 493us/step - loss: 3.8086e-08 - accuracy: 1.0000\n",
      "Epoch 71/100\n",
      "1259/1259 [==============================] - 1s 489us/step - loss: 1.3355e-07 - accuracy: 1.0000\n",
      "Epoch 72/100\n",
      "1259/1259 [==============================] - 1s 501us/step - loss: 3.0207e-08 - accuracy: 1.0000\n",
      "Epoch 73/100\n",
      "1259/1259 [==============================] - 1s 506us/step - loss: 7.3569e-09 - accuracy: 1.0000\n",
      "Epoch 74/100\n",
      "1259/1259 [==============================] - 1s 510us/step - loss: 1.4054e-08 - accuracy: 1.0000\n",
      "Epoch 75/100\n",
      "1259/1259 [==============================] - 1s 498us/step - loss: 7.5709e-08 - accuracy: 1.0000\n",
      "Epoch 76/100\n",
      "1259/1259 [==============================] - 1s 483us/step - loss: 3.1779e-09 - accuracy: 1.0000\n",
      "Epoch 77/100\n",
      "1259/1259 [==============================] - 1s 494us/step - loss: 2.3875e-08 - accuracy: 1.0000\n",
      "Epoch 78/100\n",
      "1259/1259 [==============================] - 1s 492us/step - loss: 1.0739e-08 - accuracy: 1.0000\n",
      "Epoch 79/100\n",
      "1259/1259 [==============================] - 1s 526us/step - loss: 5.8853e-10 - accuracy: 1.0000\n",
      "Epoch 80/100\n",
      "1259/1259 [==============================] - 1s 482us/step - loss: 5.5506e-09 - accuracy: 1.0000\n",
      "Epoch 81/100\n",
      "1259/1259 [==============================] - 1s 507us/step - loss: 3.3632e-09 - accuracy: 1.0000\n",
      "Epoch 82/100\n",
      "1259/1259 [==============================] - 1s 517us/step - loss: 1.1853e-07 - accuracy: 1.0000\n",
      "Epoch 83/100\n",
      "1259/1259 [==============================] - 1s 496us/step - loss: 3.1415e-07 - accuracy: 1.0000\n",
      "Epoch 84/100\n",
      "1259/1259 [==============================] - 1s 511us/step - loss: 7.4523e-09 - accuracy: 1.0000\n",
      "Epoch 85/100\n",
      "1259/1259 [==============================] - 1s 544us/step - loss: 1.6726e-07 - accuracy: 1.0000\n",
      "Epoch 86/100\n",
      "1259/1259 [==============================] - 1s 558us/step - loss: 4.9689e-08 - accuracy: 1.0000\n",
      "Epoch 87/100\n",
      "1259/1259 [==============================] - 1s 531us/step - loss: 5.7326e-09 - accuracy: 1.0000\n",
      "Epoch 88/100\n",
      "1259/1259 [==============================] - 1s 521us/step - loss: 6.3507e-10 - accuracy: 1.0000\n",
      "Epoch 89/100\n",
      "1259/1259 [==============================] - 1s 556us/step - loss: 3.4045e-07 - accuracy: 1.0000\n",
      "Epoch 90/100\n",
      "1259/1259 [==============================] - 1s 562us/step - loss: 3.5751e-07 - accuracy: 1.0000\n",
      "Epoch 91/100\n",
      "1259/1259 [==============================] - 1s 530us/step - loss: 3.9613e-08 - accuracy: 1.0000\n",
      "Epoch 92/100\n",
      "1259/1259 [==============================] - 1s 524us/step - loss: 1.0919e-10 - accuracy: 1.0000\n",
      "Epoch 93/100\n",
      "1259/1259 [==============================] - 1s 547us/step - loss: 1.8955e-09 - accuracy: 1.0000\n",
      "Epoch 94/100\n",
      "1259/1259 [==============================] - 1s 553us/step - loss: 1.3547e-10 - accuracy: 1.0000\n",
      "Epoch 95/100\n",
      "1259/1259 [==============================] - 1s 556us/step - loss: 0.2178 - accuracy: 0.9674\n",
      "Epoch 96/100\n",
      "1259/1259 [==============================] - 1s 511us/step - loss: 0.1694 - accuracy: 0.9595\n",
      "Epoch 97/100\n",
      "1259/1259 [==============================] - 1s 526us/step - loss: 0.0389 - accuracy: 0.9897\n",
      "Epoch 98/100\n",
      "1259/1259 [==============================] - 1s 506us/step - loss: 0.0073 - accuracy: 0.9976\n",
      "Epoch 99/100\n",
      "1259/1259 [==============================] - 1s 514us/step - loss: 0.0168 - accuracy: 0.9936\n",
      "Epoch 100/100\n",
      "1259/1259 [==============================] - 1s 519us/step - loss: 0.0208 - accuracy: 0.9936\n"
     ]
    }
   ],
   "source": [
    "rede.compile(optimizer='adam', loss='binary_crossentropy', metrics=['accuracy'])\n",
    "\n",
    "history = rede.fit(xi_train, y_train,\n",
    "                   epochs=epoch,\n",
    "                   batch_size=batch_size)"
   ]
  },
  {
   "cell_type": "code",
   "execution_count": 251,
   "metadata": {},
   "outputs": [],
   "source": [
    "# predição\n",
    "y_pred = rede.predict(xi_test) #dessa forma o retorno é os valores da sigmoid, nós temos que encodificar e pegar a classificação na mão\n",
    "y_pred = y_pred > 0.85 #matriz de True or False\n"
   ]
  },
  {
   "cell_type": "code",
   "execution_count": 252,
   "metadata": {},
   "outputs": [
    {
     "data": {
      "text/plain": [
       "0.8430493273542601"
      ]
     },
     "execution_count": 252,
     "metadata": {},
     "output_type": "execute_result"
    }
   ],
   "source": [
    "# Acurácia\n",
    "from sklearn.metrics import accuracy_score\n",
    "acc = accuracy_score(y_test, y_pred)\n",
    "acc"
   ]
  },
  {
   "cell_type": "code",
   "execution_count": 253,
   "metadata": {},
   "outputs": [
    {
     "data": {
      "image/png": "[encoded data removed]",
      "text/plain": [
       "<Figure size 432x432 with 1 Axes>"
      ]
     },
     "metadata": {
      "needs_background": "light"
     },
     "output_type": "display_data"
    }
   ],
   "source": [
    "#matriz de confusão\n",
    "#matriz de confusão\n",
    "from sklearn.metrics import confusion_matrix\n",
    "from mlxtend.plotting import plot_confusion_matrix\n",
    "matriz = confusion_matrix(y_test, y_pred)\n",
    "fig, ax = plot_confusion_matrix(conf_mat=matriz, figsize=(6,6)) #matriz de confusão grafica"
   ]
  },
  {
   "cell_type": "code",
   "execution_count": 254,
   "metadata": {},
   "outputs": [
    {
     "name": "stdout",
     "output_type": "stream",
     "text": [
      "Acurácia: 0.8430\n",
      "Sensitividade: 0.8532\n",
      "Especificidade: 0.8333\n"
     ]
    }
   ],
   "source": [
    "#Acurácia, Sensitividade, Especificidade\n",
    "total = sum(sum(matriz)) #só 1 sum soma apenas cruzado, 2 sum soma tudo\n",
    "acc = acc\n",
    "sensitivity = matriz[0, 0] / (matriz[0, 0] + matriz[0, 1]) #acerto / acerto+erro 'label 1'\n",
    "specificity = matriz[1, 1] / (matriz[1,1] + matriz[1, 0]) #acerto / acerto+erro 'label 2'\n",
    "\n",
    "print(\"Acurácia: {:.4f}\".format(acc))\n",
    "print(\"Sensitividade: {:.4f}\".format(sensitivity))\n",
    "print(\"Especificidade: {:.4f}\".format(specificity))"
   ]
  },
  {
   "cell_type": "code",
   "execution_count": null,
   "metadata": {},
   "outputs": [],
   "source": []
  }
 ],
 "metadata": {
  "kernelspec": {
   "display_name": "Python 3",
   "language": "python",
   "name": "python3"
  },
  "language_info": {
   "codemirror_mode": {
    "name": "ipython",
    "version": 3
   },
   "file_extension": ".py",
   "mimetype": "text/x-python",
   "name": "python",
   "nbconvert_exporter": "python",
   "pygments_lexer": "ipython3",
   "version": "3.6.9"
  }
 },
 "nbformat": 4,
 "nbformat_minor": 2
}
